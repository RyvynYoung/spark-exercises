{
 "cells": [
  {
   "cell_type": "markdown",
   "metadata": {},
   "source": [
    "# Explore Exercises\n",
    "These exercises should go in a notebook or script named explore.\n",
    "\n",
    "Answer the questions below by using a combination of the techniques discussed in the lesson that you think is appropriate."
   ]
  },
  {
   "cell_type": "code",
   "execution_count": 1,
   "metadata": {},
   "outputs": [
    {
     "name": "stdout",
     "output_type": "stream",
     "text": [
      "[wrangle.py] reading case.csv\n",
      "[wrangle.py] handling data types\n",
      "[wrangle.py] parsing dates\n",
      "[wrangle.py] adding features\n",
      "[wrangle.py] joining departments\n",
      "\n",
      "df shape: (841704, 20)\n",
      "\n",
      "-RECORD 0------------------------------------\n",
      " case_id              | 1014127332           \n",
      " case_opened_date     | 2018-01-01 00:42:00  \n",
      " case_closed_date     | 2018-01-01 12:29:00  \n",
      " case_due_date        | 2020-09-26 00:42:00  \n",
      " case_late            | false                \n",
      " num_days_late        | -998.5087616000001   \n",
      " case_closed          | true                 \n",
      " service_request_type | Stray Animal         \n",
      " SLA_days             | 999.0                \n",
      " case_status          | Closed               \n",
      " source_id            | svcCRMLS             \n",
      " request_address      | 2315  EL PASO ST,... \n",
      " council_district     | 005                  \n",
      " num_weeks_late       | -142.6441088         \n",
      " zipcode              | 78207                \n",
      " case_age             | 219                  \n",
      " days_to_closed       | 0                    \n",
      " case_lifetime        | 0                    \n",
      " department           | Animal Care Services \n",
      " dept_subject_to_SLA  | true                 \n",
      "only showing top 1 row\n",
      "\n"
     ]
    }
   ],
   "source": [
    "import warnings\n",
    "\n",
    "warnings.filterwarnings(\"ignore\")\n",
    "\n",
    "import pyspark.sql\n",
    "from pyspark.sql.functions import *\n",
    "\n",
    "import numpy as np\n",
    "import pandas as pd\n",
    "\n",
    "import matplotlib.pyplot as plt\n",
    "import seaborn as sns\n",
    "\n",
    "from wrangle import wrangle_311\n",
    "\n",
    "spark = pyspark.sql.SparkSession.builder.getOrCreate()\n",
    "\n",
    "df = wrangle_311(spark)\n",
    "print(\"\\ndf shape: (%d, %d)\\n\" % (df.count(), len(df.columns)))\n",
    "df.show(1, vertical=True)"
   ]
  },
  {
   "cell_type": "markdown",
   "metadata": {},
   "source": [
    "1. How many different cases are there, by department?"
   ]
  },
  {
   "cell_type": "code",
   "execution_count": 2,
   "metadata": {},
   "outputs": [
    {
     "name": "stdout",
     "output_type": "stream",
     "text": [
      "+--------------------+------+\n",
      "|          department| count|\n",
      "+--------------------+------+\n",
      "|         Solid Waste|279270|\n",
      "|Animal Care Services|116915|\n",
      "|Trans & Cap Impro...| 96193|\n",
      "|  Parks & Recreation| 19907|\n",
      "|    Customer Service|  2849|\n",
      "|        Metro Health|  5163|\n",
      "|        City Council|    33|\n",
      "|DSD/Code Enforcement|321374|\n",
      "+--------------------+------+\n",
      "\n"
     ]
    }
   ],
   "source": [
    "df.groupby('department').count().show()"
   ]
  },
  {
   "cell_type": "markdown",
   "metadata": {},
   "source": [
    "2. Does the percentage of cases that are late vary by department?"
   ]
  },
  {
   "cell_type": "code",
   "execution_count": 3,
   "metadata": {},
   "outputs": [],
   "source": [
    "# add column \"is_late\" that is booleen then pivot on that with department? or to pandas?\n"
   ]
  },
  {
   "cell_type": "markdown",
   "metadata": {},
   "source": [
    "3. On average, how late are the late cases by department?"
   ]
  },
  {
   "cell_type": "code",
   "execution_count": 4,
   "metadata": {},
   "outputs": [
    {
     "name": "stdout",
     "output_type": "stream",
     "text": [
      "+------------------------+------------------------+------------------+-----------------------+-----------------+\n",
      "|department              |false_avg(num_days_late)|false_n_cases_late|true_avg(num_days_late)|true_n_cases_late|\n",
      "+------------------------+------------------------+------------------+-----------------------+-----------------+\n",
      "|Solid Waste             |-3.4484943282002587     |246325            |7.186821906120899      |32945            |\n",
      "|Animal Care Services    |-288.2149778603364      |93639             |23.458633245820124     |23276            |\n",
      "|Trans & Cap Improvements|-22.36425447007597      |90782             |10.603064680316946     |5411             |\n",
      "|Customer Service        |-8.053626989275326      |839               |87.68385942150394      |2010             |\n",
      "|Parks & Recreation      |-11.796051012138909     |16110             |22.348910457867518     |3797             |\n",
      "|Metro Health            |-7.093983767419706      |4334              |6.5438133155476494     |829              |\n",
      "|City Council            |null                    |0                 |null                   |null             |\n",
      "|DSD/Code Enforcement    |-46.11983806825054      |295139            |49.38428705358908      |26235            |\n",
      "+------------------------+------------------------+------------------+-----------------------+-----------------+\n",
      "\n"
     ]
    }
   ],
   "source": [
    "(\n",
    "    df.groupby('department')\n",
    "    .pivot('case_late')\n",
    "    .agg(mean('num_days_late'), count('num_days_late').alias('n_cases_late'))\n",
    "    .show(truncate=False)\n",
    ")"
   ]
  },
  {
   "cell_type": "markdown",
   "metadata": {},
   "source": [
    "4. What is the service type that is the most late? Just for Parks & Rec?"
   ]
  },
  {
   "cell_type": "code",
   "execution_count": 5,
   "metadata": {},
   "outputs": [
    {
     "name": "stdout",
     "output_type": "stream",
     "text": [
      "+------------------------+----------------------------------------+------------------+------------+\n",
      "|department              |service_request_type                    |avg(num_days_late)|n_cases_late|\n",
      "+------------------------+----------------------------------------+------------------+------------+\n",
      "|DSD/Code Enforcement    |Zoning: Recycle Yard                    |210.89201994318182|132         |\n",
      "|DSD/Code Enforcement    |Zoning: Junk Yards                      |200.20517608494276|262         |\n",
      "|DSD/Code Enforcement    |Structure/Housing Maintenance           |190.20707698509807|51          |\n",
      "|DSD/Code Enforcement    |Donation Container Enforcement          |171.09115313942615|122         |\n",
      "|DSD/Code Enforcement    |Storage of Used Mattress                |163.96812829714287|7           |\n",
      "|DSD/Code Enforcement    |Labeling for Used Mattress              |162.43032902285717|7           |\n",
      "|DSD/Code Enforcement    |Record Keeping of Used Mattresses       |153.99724039428568|7           |\n",
      "|DSD/Code Enforcement    |Signage Requied for Sale of Used Mattr  |151.63868055333333|12          |\n",
      "|Trans & Cap Improvements|Traffic Signal Graffiti                 |137.64583330000002|2           |\n",
      "|DSD/Code Enforcement    |License Requied Used Mattress Sales     |128.79828704142858|7           |\n",
      "|DSD/Code Enforcement    |Curbstoning                             |120.39566479917886|123         |\n",
      "|DSD/Code Enforcement    |Vendors                                 |117.72551367776335|131         |\n",
      "|DSD/Code Enforcement    |CPS Energy Wood Poles                   |115.18708329999998|1           |\n",
      "|DSD/Code Enforcement    |Graffiti: Private Property (Corridors)  |114.09439580800002|5           |\n",
      "|DSD/Code Enforcement    |Used Mattress Inspection                |108.14074724718749|16          |\n",
      "|DSD/Code Enforcement    |DSDB Ordered/Hold Harmless/Regular: Main|94.9029600898138  |145         |\n",
      "|DSD/Code Enforcement    |DSDB Ordered/Hold Harmless/Regular-ALL  |90.60137650743478 |115         |\n",
      "|DSD/Code Enforcement    |DSDB Ordered/Hold Harmless/Regular: ASEC|88.67873591760812 |74          |\n",
      "|Customer Service        |Complaint                               |87.74197415340986 |1998        |\n",
      "|DSD/Code Enforcement    |Zoning: Setbacks                        |86.72783777095414 |109         |\n",
      "+------------------------+----------------------------------------+------------------+------------+\n",
      "only showing top 20 rows\n",
      "\n"
     ]
    }
   ],
   "source": [
    "(\n",
    "    df.filter('case_late')\n",
    "    .groupby('department', 'service_request_type')\n",
    "    .agg(mean('num_days_late'), count('num_days_late').alias('n_cases_late'))\n",
    "    .sort(col('avg(num_days_late)').desc())    \n",
    "    .show(truncate=False)\n",
    ")"
   ]
  },
  {
   "cell_type": "code",
   "execution_count": 6,
   "metadata": {},
   "outputs": [
    {
     "name": "stdout",
     "output_type": "stream",
     "text": [
      "+-------------------------------------+------------------+------------+\n",
      "|service_request_type                 |avg(num_days_late)|n_cases_late|\n",
      "+-------------------------------------+------------------+------------+\n",
      "|Amenity Park Improvement             |76.87018194568    |25          |\n",
      "|Major Park Improvement Install       |75.79450367282354 |17          |\n",
      "|Reservation Assistance               |66.03116319       |2           |\n",
      "|Park Building Maint Invest           |59.367469802695666|23          |\n",
      "|Sportfield Lighting                  |51.480049793645534|268         |\n",
      "|Electrical                           |42.951971658345116|481         |\n",
      "|Tree Removal                         |40.28404224560715 |84          |\n",
      "|Landscape Maintenance                |38.86797941326316 |19          |\n",
      "|Heavy Equipment                      |38.56625730831579 |19          |\n",
      "|Miscellaneous Park Equipment         |33.62472491253488 |43          |\n",
      "|Tree Trimming/Maintenance            |30.702768979017545|171         |\n",
      "|General Building Maintenance         |28.192905974561906|105         |\n",
      "|Masonry                              |27.989420392890622|128         |\n",
      "|Painting                             |25.404551756282608|92          |\n",
      "|Sign Maintenance                     |22.281778663588234|34          |\n",
      "|Fence/Gate Repair                    |20.366796601056603|53          |\n",
      "|Small Equipment Repair               |19.644149305      |6           |\n",
      "|Pools                                |19.489430630709677|31          |\n",
      "|Plumbing                             |18.621826175298462|325         |\n",
      "|Plumbing/Drinking Fountain/Sprinklers|18.18076193409091 |77          |\n",
      "+-------------------------------------+------------------+------------+\n",
      "only showing top 20 rows\n",
      "\n"
     ]
    }
   ],
   "source": [
    "# just for Parks & Rec\n",
    "(\n",
    "    df.filter('case_late')\n",
    "    .filter(col(\"department\") == \"Parks & Recreation\")\n",
    "    .groupby('service_request_type')\n",
    "    .agg(mean('num_days_late'), count('num_days_late').alias('n_cases_late'))\n",
    "    .sort(col('avg(num_days_late)').desc())    \n",
    "    .show(truncate=False)\n",
    ")"
   ]
  },
  {
   "cell_type": "markdown",
   "metadata": {},
   "source": [
    "5. For the DSD/Code Enforcement department, what are the most common service request types? Look at other departments too."
   ]
  },
  {
   "cell_type": "code",
   "execution_count": 7,
   "metadata": {
    "scrolled": true
   },
   "outputs": [
    {
     "name": "stdout",
     "output_type": "stream",
     "text": [
      "+----------------------------------------------+-------+\n",
      "|service_request_type                          |n_cases|\n",
      "+----------------------------------------------+-------+\n",
      "|No Pickup                                     |86855  |\n",
      "|Damaged Cart                                  |30338  |\n",
      "|Cart Exchange Request                         |22024  |\n",
      "|Lost/Stolen Cart                              |18731  |\n",
      "|Dead Animal - Dog                             |16714  |\n",
      "|Cart Delivery                                 |15471  |\n",
      "|Dead Animal - Cat                             |14983  |\n",
      "|Dead Animal - Misc                            |13234  |\n",
      "|Cart PickUp                                   |10081  |\n",
      "|1st Call Bagged Leaves                        |6554   |\n",
      "|Solid Waste Fees and Charges                  |5104   |\n",
      "|Brush - Out of Cycle Collection - Fee Required|4840   |\n",
      "|Illegal Dumping (Non- residential areas)      |4670   |\n",
      "|Disability Assistance Missed Pickup           |4019   |\n",
      "|Additional Cart Request                       |3020   |\n",
      "|Additional Garbage Container - with Fee       |2944   |\n",
      "|Brush / Bulky Miscellaneous                   |2313   |\n",
      "|Brush Missed Pick up                          |2257   |\n",
      "|Garbage Out of Cycle Collection               |2026   |\n",
      "|Bulk Missed Pick up                           |1916   |\n",
      "+----------------------------------------------+-------+\n",
      "only showing top 20 rows\n",
      "\n"
     ]
    }
   ],
   "source": [
    "# DSD/Code Eforcement Dept\n",
    "(\n",
    "    df.filter(col(\"department\") == \"Solid Waste\")\n",
    "    .groupby('service_request_type')\n",
    "    .agg(count('service_request_type').alias('n_cases'))\n",
    "    .sort(col('n_cases').desc())    \n",
    "    .show(truncate=False)\n",
    ")"
   ]
  },
  {
   "cell_type": "code",
   "execution_count": 8,
   "metadata": {},
   "outputs": [
    {
     "name": "stdout",
     "output_type": "stream",
     "text": [
      "+------------------------------------------------+-------+\n",
      "|service_request_type                            |n_cases|\n",
      "+------------------------------------------------+-------+\n",
      "|Pot Hole Repair                                 |20616  |\n",
      "|Traffic Signal Ops and Maintenance - Emergency  |7997   |\n",
      "|Traffic Sign Missing/Down                       |5674   |\n",
      "|Base/Pavement Repair                            |5385   |\n",
      "|Signal Timing Modification                      |4414   |\n",
      "|Traffic Signal Ops and Maintenance              |4382   |\n",
      "|Stop/Yield Sign Down/Missing/Faded              |3968   |\n",
      "|Drainage Channel/Debris Removal                 |3105   |\n",
      "|Initiating Unknown Project Investigation        |2859   |\n",
      "|Curb or Sidewalk Investigation                  |2628   |\n",
      "|Tree Fallen                                     |2388   |\n",
      "|Traffic Sign Graffiti                           |2123   |\n",
      "|Traffic Sign Faded                              |2122   |\n",
      "|Street Sweeping                                 |1911   |\n",
      "|School Flashers Maintenance                     |1754   |\n",
      "|Knockdowns - Signals / Signalized Infrastructure|1632   |\n",
      "|Pavement Marking Investigation                  |1364   |\n",
      "|Water Ponding or Standing                       |1087   |\n",
      "|On-Going PW Projects                            |1058   |\n",
      "|Street Sweeping- Emergency                      |1043   |\n",
      "+------------------------------------------------+-------+\n",
      "only showing top 20 rows\n",
      "\n"
     ]
    }
   ],
   "source": [
    "# Transportation and Capital Improvements Dept\n",
    "(\n",
    "    df.filter(col(\"department\") == \"Trans & Cap Improvements\")\n",
    "    .groupby('service_request_type')\n",
    "    .agg(count('service_request_type').alias('n_cases'))\n",
    "    .sort(col('n_cases').desc())    \n",
    "    .show(truncate=False)\n",
    ")"
   ]
  },
  {
   "cell_type": "code",
   "execution_count": 9,
   "metadata": {},
   "outputs": [
    {
     "name": "stdout",
     "output_type": "stream",
     "text": [
      "+-----------------------------+-------+\n",
      "|service_request_type         |n_cases|\n",
      "+-----------------------------+-------+\n",
      "|License Renewal Invoice      |1349   |\n",
      "|Hygienic Practices           |946    |\n",
      "|Pests                        |715    |\n",
      "|Food Contact Surfaces        |602    |\n",
      "|Public Right of Way          |538    |\n",
      "|Food Borne Illness           |259    |\n",
      "|Food Poisoning               |256    |\n",
      "|Working without a License    |165    |\n",
      "|Public/Semi-Public Pools/Spas|165    |\n",
      "|Sanitary Conditions          |107    |\n",
      "|Food Source                  |24     |\n",
      "|Smoking Ordinance            |22     |\n",
      "|Ventilation                  |14     |\n",
      "|Rescheduling Event           |1      |\n",
      "+-----------------------------+-------+\n",
      "\n"
     ]
    }
   ],
   "source": [
    "# Metro Health Dept\n",
    "(\n",
    "    df.filter(col(\"department\") == \"Metro Health\")\n",
    "    .groupby('service_request_type')\n",
    "    .agg(count('service_request_type').alias('n_cases'))\n",
    "    .sort(col('n_cases').desc())    \n",
    "    .show(truncate=False)\n",
    ")"
   ]
  },
  {
   "cell_type": "markdown",
   "metadata": {},
   "source": [
    "6. Does whether or not its a weekend matter for when a case is opened/closed?"
   ]
  },
  {
   "cell_type": "code",
   "execution_count": 10,
   "metadata": {},
   "outputs": [],
   "source": [
    "# first agg by day in Spark, drop minute and hour\n",
    "cases_by_day = df.select(\n",
    "    \"department\",\n",
    "    date_format(\"case_opened_date\", \"yyyy-MM-dd\").alias(\"case_opened_date\"),\n",
    "    date_format(\"case_closed_date\", \"yyyy-MM-dd\").alias(\"case_closed_date\"),\n",
    ")"
   ]
  },
  {
   "cell_type": "code",
   "execution_count": 11,
   "metadata": {},
   "outputs": [
    {
     "data": {
      "text/plain": [
       "case_opened_date\n",
       "2017-01-01     155\n",
       "2017-01-02    1397\n",
       "2017-01-03    1760\n",
       "2017-01-04    1613\n",
       "2017-01-05    1791\n",
       "              ... \n",
       "2018-08-04     665\n",
       "2018-08-05     319\n",
       "2018-08-06    2071\n",
       "2018-08-07    2405\n",
       "2018-08-08     604\n",
       "Name: cases_opened, Length: 585, dtype: int64"
      ]
     },
     "execution_count": 11,
     "metadata": {},
     "output_type": "execute_result"
    }
   ],
   "source": [
    "# based on the opened date column created above, group by the date and count the number of cases for that day\n",
    "# send this to Pandas, convert each to Pandas datetime, set the date as index with the count\n",
    "cases_opened_by_day = (\n",
    "    cases_by_day\n",
    "    .groupby('case_opened_date')\n",
    "    .count()\n",
    "    .na.drop()\n",
    "    .sort('case_opened_date')\n",
    "    .toPandas()\n",
    "    .assign(case_opened_date=lambda df: pd.to_datetime(df.case_opened_date))\n",
    "    .set_index('case_opened_date')\n",
    "    ['count']\n",
    ")\n",
    "cases_opened_by_day.name = 'cases_opened'\n",
    "cases_opened_by_day"
   ]
  },
  {
   "cell_type": "code",
   "execution_count": 12,
   "metadata": {},
   "outputs": [],
   "source": [
    "# do the above steps again for case closed date\n",
    "cases_closed_by_day = (\n",
    "    cases_by_day\n",
    "    .groupby('case_closed_date')\n",
    "    .count()\n",
    "    .na.drop()\n",
    "    .sort('case_closed_date')\n",
    "    .toPandas()\n",
    "    .assign(case_closed_date=lambda df: pd.to_datetime(df.case_closed_date))\n",
    "    .set_index('case_closed_date')\n",
    "    ['count']\n",
    ")\n",
    "cases_closed_by_day.name = 'cases_closed'"
   ]
  },
  {
   "cell_type": "code",
   "execution_count": 13,
   "metadata": {},
   "outputs": [
    {
     "data": {
      "text/html": [
       "<div>\n",
       "<style scoped>\n",
       "    .dataframe tbody tr th:only-of-type {\n",
       "        vertical-align: middle;\n",
       "    }\n",
       "\n",
       "    .dataframe tbody tr th {\n",
       "        vertical-align: top;\n",
       "    }\n",
       "\n",
       "    .dataframe thead th {\n",
       "        text-align: right;\n",
       "    }\n",
       "</style>\n",
       "<table border=\"1\" class=\"dataframe\">\n",
       "  <thead>\n",
       "    <tr style=\"text-align: right;\">\n",
       "      <th></th>\n",
       "      <th>cases_opened</th>\n",
       "      <th>cases_closed</th>\n",
       "    </tr>\n",
       "  </thead>\n",
       "  <tbody>\n",
       "    <tr>\n",
       "      <th>2017-01-01</th>\n",
       "      <td>155</td>\n",
       "      <td>67</td>\n",
       "    </tr>\n",
       "    <tr>\n",
       "      <th>2017-01-02</th>\n",
       "      <td>1397</td>\n",
       "      <td>385</td>\n",
       "    </tr>\n",
       "    <tr>\n",
       "      <th>2017-01-03</th>\n",
       "      <td>1760</td>\n",
       "      <td>734</td>\n",
       "    </tr>\n",
       "    <tr>\n",
       "      <th>2017-01-04</th>\n",
       "      <td>1613</td>\n",
       "      <td>1206</td>\n",
       "    </tr>\n",
       "    <tr>\n",
       "      <th>2017-01-05</th>\n",
       "      <td>1791</td>\n",
       "      <td>1173</td>\n",
       "    </tr>\n",
       "    <tr>\n",
       "      <th>...</th>\n",
       "      <td>...</td>\n",
       "      <td>...</td>\n",
       "    </tr>\n",
       "    <tr>\n",
       "      <th>2018-08-04</th>\n",
       "      <td>665</td>\n",
       "      <td>730</td>\n",
       "    </tr>\n",
       "    <tr>\n",
       "      <th>2018-08-05</th>\n",
       "      <td>319</td>\n",
       "      <td>197</td>\n",
       "    </tr>\n",
       "    <tr>\n",
       "      <th>2018-08-06</th>\n",
       "      <td>2071</td>\n",
       "      <td>1713</td>\n",
       "    </tr>\n",
       "    <tr>\n",
       "      <th>2018-08-07</th>\n",
       "      <td>2405</td>\n",
       "      <td>2096</td>\n",
       "    </tr>\n",
       "    <tr>\n",
       "      <th>2018-08-08</th>\n",
       "      <td>604</td>\n",
       "      <td>680</td>\n",
       "    </tr>\n",
       "  </tbody>\n",
       "</table>\n",
       "<p>585 rows × 2 columns</p>\n",
       "</div>"
      ],
      "text/plain": [
       "            cases_opened  cases_closed\n",
       "2017-01-01           155            67\n",
       "2017-01-02          1397           385\n",
       "2017-01-03          1760           734\n",
       "2017-01-04          1613          1206\n",
       "2017-01-05          1791          1173\n",
       "...                  ...           ...\n",
       "2018-08-04           665           730\n",
       "2018-08-05           319           197\n",
       "2018-08-06          2071          1713\n",
       "2018-08-07          2405          2096\n",
       "2018-08-08           604           680\n",
       "\n",
       "[585 rows x 2 columns]"
      ]
     },
     "execution_count": 13,
     "metadata": {},
     "output_type": "execute_result"
    }
   ],
   "source": [
    "# concat these series together\n",
    "ts = pd.concat([cases_opened_by_day, cases_closed_by_day], axis=1)\n",
    "ts\n",
    "# now we have a time series Pandas df to visualize with"
   ]
  },
  {
   "cell_type": "code",
   "execution_count": 14,
   "metadata": {},
   "outputs": [
    {
     "data": {
      "image/png": "[encoded data removed]",
      "text/plain": [
       "<Figure size 936x504 with 1 Axes>"
      ]
     },
     "metadata": {
      "needs_background": "light"
     },
     "output_type": "display_data"
    }
   ],
   "source": [
    "# create a weekday column that has the number of day and abreviation for day to use as lables\n",
    "ts['weekday'] = ts.index.strftime('%w-%a')\n",
    "# get the average cases open/closed by day as a bar chart\n",
    "ts.groupby('weekday').mean().plot.bar(figsize=(13, 7), ec='black', width=.9)\n",
    "\n",
    "plt.title('Total cases opened and closed by day of week')\n",
    "plt.xticks(rotation=0)\n",
    "plt.show()"
   ]
  },
  {
   "cell_type": "code",
   "execution_count": 15,
   "metadata": {},
   "outputs": [],
   "source": [
    "# fewer cases are opened and closed on the weekend on average\n",
    "# generally more cases are opened per day than closed expect on Wed and Sat\n"
   ]
  },
  {
   "cell_type": "markdown",
   "metadata": {},
   "source": [
    "7. On average, how many cases are opened a day for the Customer Service department?"
   ]
  },
  {
   "cell_type": "code",
   "execution_count": 16,
   "metadata": {},
   "outputs": [],
   "source": [
    "# first filter then agg by day in Spark, drop minute and hour\n",
    "cs_by_day = df.filter(col(\"department\") == \"Customer Service\").select(\"department\",    \n",
    "    date_format(\"case_opened_date\", \"yyyy-MM-dd\").alias(\"case_opened_date\"),\n",
    ")"
   ]
  },
  {
   "cell_type": "code",
   "execution_count": 17,
   "metadata": {},
   "outputs": [
    {
     "data": {
      "text/plain": [
       "case_opened_date\n",
       "2017-01-02     3\n",
       "2017-01-03     6\n",
       "2017-01-04     2\n",
       "2017-01-05     5\n",
       "2017-01-06     3\n",
       "              ..\n",
       "2018-08-02    13\n",
       "2018-08-03     8\n",
       "2018-08-04     2\n",
       "2018-08-06     5\n",
       "2018-08-07     9\n",
       "Name: cases_opened, Length: 512, dtype: int64"
      ]
     },
     "execution_count": 17,
     "metadata": {},
     "output_type": "execute_result"
    }
   ],
   "source": [
    "cs_opened_by_day = (\n",
    "    cs_by_day\n",
    "    .groupby('case_opened_date')\n",
    "    .count()\n",
    "    .na.drop()\n",
    "    .sort('case_opened_date')\n",
    "    .toPandas()\n",
    "    .assign(case_opened_date=lambda df: pd.to_datetime(df.case_opened_date))\n",
    "    .set_index('case_opened_date')\n",
    "    ['count']\n",
    ")\n",
    "cs_opened_by_day.name = 'cases_opened'\n",
    "cs_opened_by_day"
   ]
  },
  {
   "cell_type": "code",
   "execution_count": 20,
   "metadata": {},
   "outputs": [],
   "source": [
    "cs_ts = pd.DataFrame(cs_opened_by_day)"
   ]
  },
  {
   "cell_type": "code",
   "execution_count": 23,
   "metadata": {},
   "outputs": [
    {
     "data": {
      "image/png": "[encoded data removed]",
      "text/plain": [
       "<Figure size 936x504 with 1 Axes>"
      ]
     },
     "metadata": {
      "needs_background": "light"
     },
     "output_type": "display_data"
    }
   ],
   "source": [
    "cs_ts['weekday'] = cs_ts.index.strftime('%w-%a')\n",
    "# get the average cases open/closed by day as a bar chart\n",
    "cs_ts.groupby('weekday').mean().plot.bar(figsize=(13, 7), ec='black', width=.9)\n",
    "plt.title('Customer Service cases opened by day of week')\n",
    "plt.xticks(rotation=0)\n",
    "plt.show()"
   ]
  },
  {
   "cell_type": "markdown",
   "metadata": {},
   "source": [
    "8. Does the number of service requests for the solid waste department vary by day of the week?"
   ]
  },
  {
   "cell_type": "code",
   "execution_count": 25,
   "metadata": {},
   "outputs": [
    {
     "name": "stdout",
     "output_type": "stream",
     "text": [
      "+-------+\n",
      "|n_cases|\n",
      "+-------+\n",
      "|279270 |\n",
      "+-------+\n",
      "\n"
     ]
    }
   ],
   "source": [
    "# Service requests by Solid Waste dept\n",
    "(\n",
    "    df.filter(col(\"department\") == \"Solid Waste\")\n",
    "    .groupby('service_request_type')\n",
    "    .agg(count('service_request_type').alias('n_cases'))\n",
    "    .sort(col('n_cases').desc())    \n",
    "    .show(truncate=False)\n",
    ")"
   ]
  },
  {
   "cell_type": "code",
   "execution_count": 27,
   "metadata": {},
   "outputs": [],
   "source": [
    "sw_by_day = df.filter(col(\"department\") == \"Solid Waste\").select(\"department\",    \n",
    "    date_format(\"case_opened_date\", \"yyyy-MM-dd\").alias(\"case_opened_date\"),\n",
    ")"
   ]
  },
  {
   "cell_type": "code",
   "execution_count": 28,
   "metadata": {},
   "outputs": [
    {
     "data": {
      "text/plain": [
       "case_opened_date\n",
       "2017-01-01     43\n",
       "2017-01-02    722\n",
       "2017-01-03    771\n",
       "2017-01-04    545\n",
       "2017-01-05    586\n",
       "             ... \n",
       "2018-08-04    175\n",
       "2018-08-05     90\n",
       "2018-08-06    775\n",
       "2018-08-07    714\n",
       "2018-08-08    191\n",
       "Name: cases_opened, Length: 585, dtype: int64"
      ]
     },
     "execution_count": 28,
     "metadata": {},
     "output_type": "execute_result"
    }
   ],
   "source": [
    "sw_opened_by_day = (\n",
    "    sw_by_day\n",
    "    .groupby('case_opened_date')\n",
    "    .count()\n",
    "    .na.drop()\n",
    "    .sort('case_opened_date')\n",
    "    .toPandas()\n",
    "    .assign(case_opened_date=lambda df: pd.to_datetime(df.case_opened_date))\n",
    "    .set_index('case_opened_date')\n",
    "    ['count']\n",
    ")\n",
    "sw_opened_by_day.name = 'cases_opened'\n",
    "sw_opened_by_day"
   ]
  },
  {
   "cell_type": "code",
   "execution_count": 29,
   "metadata": {},
   "outputs": [
    {
     "data": {
      "image/png": "[encoded data removed]",
      "text/plain": [
       "<Figure size 936x504 with 1 Axes>"
      ]
     },
     "metadata": {
      "needs_background": "light"
     },
     "output_type": "display_data"
    }
   ],
   "source": [
    "sw_ts = pd.DataFrame(sw_opened_by_day)\n",
    "sw_ts['weekday'] = sw_ts.index.strftime('%w-%a')\n",
    "# get the average cases open/closed by day as a bar chart\n",
    "sw_ts.groupby('weekday').mean().plot.bar(figsize=(13, 7), ec='black', width=.9)\n",
    "plt.title('Solid Waster service requests opened by day of week')\n",
    "plt.xticks(rotation=0)\n",
    "plt.show()"
   ]
  },
  {
   "cell_type": "code",
   "execution_count": null,
   "metadata": {},
   "outputs": [],
   "source": []
  }
 ],
 "metadata": {
  "kernelspec": {
   "display_name": "Python 3",
   "language": "python",
   "name": "python3"
  },
  "language_info": {
   "codemirror_mode": {
    "name": "ipython",
    "version": 3
   },
   "file_extension": ".py",
   "mimetype": "text/x-python",
   "name": "python",
   "nbconvert_exporter": "python",
   "pygments_lexer": "ipython3",
   "version": "3.7.9"
  },
  "toc": {
   "base_numbering": 1,
   "nav_menu": {},
   "number_sections": true,
   "sideBar": true,
   "skip_h1_title": false,
   "title_cell": "Table of Contents",
   "title_sidebar": "Contents",
   "toc_cell": false,
   "toc_position": {},
   "toc_section_display": true,
   "toc_window_display": false
  }
 },
 "nbformat": 4,
 "nbformat_minor": 4
}
